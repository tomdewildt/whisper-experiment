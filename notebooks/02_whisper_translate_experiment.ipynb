{
  "nbformat": 4,
  "nbformat_minor": 0,
  "metadata": {
    "colab": {
      "provenance": []
    },
    "kernelspec": {
      "name": "python3",
      "display_name": "Python 3"
    },
    "language_info": {
      "name": "python"
    },
    "gpuClass": "standard"
  },
  "cells": [
    {
      "cell_type": "markdown",
      "source": [
        "# 2. Whisper Translate Experiment"
      ],
      "metadata": {
        "id": "kWbAICjMxGf0"
      }
    },
    {
      "cell_type": "markdown",
      "source": [
        "**Install required packages**"
      ],
      "metadata": {
        "id": "1VTCDLmjxPKI"
      }
    },
    {
      "cell_type": "code",
      "source": [
        "!pip install -q git+https://github.com/openai/whisper.git"
      ],
      "metadata": {
        "id": "jodnf0HqD0k_",
        "colab": {
          "base_uri": "https://localhost:8080/"
        },
        "outputId": "117cad3a-a713-4ecb-a166-b1248f993c5f"
      },
      "execution_count": 1,
      "outputs": [
        {
          "output_type": "stream",
          "name": "stdout",
          "text": [
            "\u001b[K     |████████████████████████████████| 5.8 MB 8.7 MB/s \n",
            "\u001b[K     |████████████████████████████████| 7.6 MB 43.7 MB/s \n",
            "\u001b[K     |████████████████████████████████| 182 kB 61.5 MB/s \n",
            "\u001b[?25h  Building wheel for whisper (setup.py) ... \u001b[?25l\u001b[?25hdone\n"
          ]
        }
      ]
    },
    {
      "cell_type": "markdown",
      "source": [
        "**Import required packages**"
      ],
      "metadata": {
        "id": "L4seO8rRxQxX"
      }
    },
    {
      "cell_type": "code",
      "source": [
        "from google.colab import files\n",
        "\n",
        "import whisper"
      ],
      "metadata": {
        "id": "rEcKLDv-D1Wl"
      },
      "execution_count": 2,
      "outputs": []
    },
    {
      "cell_type": "markdown",
      "source": [
        "## 2.1 Define model constants\n",
        "\n",
        "This section is used to define constants for the model such as: `id`, `device`, `low_vram`."
      ],
      "metadata": {
        "id": "vKVXePqUpTSf"
      }
    },
    {
      "cell_type": "code",
      "source": [
        "WHISPER_MODEL_ID = \"medium\"\n",
        "\n",
        "WHISPER_MODEL_DEVICE = \"cpu\"\n",
        "WHISPER_MODEL_LOW_RAM = True\n",
        "\n",
        "TEXT_BOLD = \"\\033[1m\"\n",
        "TEXT_END = \"\\033[0m\\x1B[0m\""
      ],
      "metadata": {
        "id": "fJ6XdhFipSr0"
      },
      "execution_count": 3,
      "outputs": []
    },
    {
      "cell_type": "markdown",
      "source": [
        "## 2.2 Create model processor\n",
        "\n",
        "Instantiate the whisper model using the pretrained weights from [huggingface.co](https://huggingface.co/openai/whisper-medium)"
      ],
      "metadata": {
        "id": "UcGNUKUNHp9m"
      }
    },
    {
      "cell_type": "code",
      "source": [
        "model = whisper.load_model(WHISPER_MODEL_ID, device=WHISPER_MODEL_DEVICE)"
      ],
      "metadata": {
        "id": "rsRpHgp-D5r6",
        "colab": {
          "base_uri": "https://localhost:8080/"
        },
        "outputId": "55e91f5c-6bdf-4978-dc60-7bee81991f67"
      },
      "execution_count": 4,
      "outputs": [
        {
          "output_type": "stream",
          "name": "stderr",
          "text": [
            "100%|█████████████████████████████████████| 1.42G/1.42G [00:19<00:00, 79.2MiB/s]\n"
          ]
        }
      ]
    },
    {
      "cell_type": "markdown",
      "source": [
        "## 2.3 Create inference functions\n",
        "\n",
        "Create the functions to run inference using whisper. The `run_translate_inference()` function can be used to transcribe audio in any language and translate it to english at the same time. It returns a dictionary containing the transcription results."
      ],
      "metadata": {
        "id": "L578lCoAIwj_"
      }
    },
    {
      "cell_type": "code",
      "source": [
        "def run_translate_inference(\n",
        "    model,\n",
        "    file,\n",
        "    language=None,\n",
        "    no_speech_threshold=0.6,\n",
        "    use_previous_text=True,\n",
        "    enable_blank_supression=True,\n",
        "    enable_timestamps=False,\n",
        "):\n",
        "    result = model.transcribe(\n",
        "        file,\n",
        "        task=\"translate\",\n",
        "        language=language,\n",
        "        no_speech_threshold=no_speech_threshold,\n",
        "        condition_on_previous_text=use_previous_text,\n",
        "        suppress_blank=enable_blank_supression,\n",
        "        without_timestamps=not enable_timestamps,\n",
        "        fp16=WHISPER_MODEL_LOW_RAM,\n",
        "    )\n",
        "\n",
        "    return result"
      ],
      "metadata": {
        "id": "5XPfw9fwIyNi"
      },
      "execution_count": 5,
      "outputs": []
    },
    {
      "cell_type": "markdown",
      "source": [
        "## 2.4 Create result functions\n",
        "\n",
        "Create the functions to show the transcription results from whisper."
      ],
      "metadata": {
        "id": "kzyvVPKoBn9M"
      }
    },
    {
      "cell_type": "code",
      "source": [
        "def show_result(result):\n",
        "    print(\"-\" * 100)\n",
        "    print(\"\")\n",
        "\n",
        "    print(TEXT_BOLD + \"Model: \" + TEXT_END + WHISPER_MODEL_ID)\n",
        "    print(TEXT_BOLD + \"Device: \" + TEXT_END + WHISPER_MODEL_DEVICE)\n",
        "    print(\"\")\n",
        "\n",
        "    print(TEXT_BOLD + \"Text: \" + TEXT_END + result.get(\"text\", \"-\").strip())\n",
        "    print(TEXT_BOLD + \"Language: \" + TEXT_END + result.get(\"language\", \"-\").strip())\n",
        "    print(\"\")\n",
        "\n",
        "    print(TEXT_BOLD + \"Segments:\" + TEXT_END)\n",
        "    for segment in result.get(\"segments\", []):\n",
        "        print(\"\\t\" + TEXT_BOLD + \"Id: \" + TEXT_END + f\"{segment['id']}\")\n",
        "        print(\"\\t\" + \"Time: \" + f\"{segment['start']:.2f}s - {segment['end']:.2f}s\")\n",
        "        print(\"\\t\" + \"Text: \" + segment[\"text\"].strip())\n",
        "        print(\"\\t\" + \"No Speech Probability: \" + f\"{segment['no_speech_prob']:.2f}\")\n",
        "        print(\"\")\n",
        "\n",
        "    print(\"-\" * 100)"
      ],
      "metadata": {
        "id": "NWulIrccBoGb"
      },
      "execution_count": 6,
      "outputs": []
    },
    {
      "cell_type": "markdown",
      "source": [
        "## 2.5 Run inference"
      ],
      "metadata": {
        "id": "LsbUmhwMATYJ"
      }
    },
    {
      "cell_type": "code",
      "source": [
        "%%time\n",
        "# Upload audio\n",
        "upload = files.upload()\n",
        "audio = next(key for key in upload.keys() if \".mp3\" in key)\n",
        "\n",
        "# Run inference\n",
        "result = run_translate_inference(\n",
        "    model,\n",
        "    audio,\n",
        "    language=None,\n",
        "    no_speech_threshold=0.6,\n",
        "    use_previous_text=True,\n",
        "    enable_blank_supression=True,\n",
        "    enable_timestamps=True\n",
        ")"
      ],
      "metadata": {
        "colab": {
          "base_uri": "https://localhost:8080/",
          "height": 142
        },
        "id": "eo8ThlLhATrt",
        "outputId": "bf65672c-4ff5-4b77-81ad-1d4da2473ecf"
      },
      "execution_count": 7,
      "outputs": [
        {
          "output_type": "display_data",
          "data": {
            "text/plain": [
              "<IPython.core.display.HTML object>"
            ],
            "text/html": [
              "\n",
              "     <input type=\"file\" id=\"files-fd74455a-5e1d-423c-be46-ac1d07f04f79\" name=\"files[]\" multiple disabled\n",
              "        style=\"border:none\" />\n",
              "     <output id=\"result-fd74455a-5e1d-423c-be46-ac1d07f04f79\">\n",
              "      Upload widget is only available when the cell has been executed in the\n",
              "      current browser session. Please rerun this cell to enable.\n",
              "      </output>\n",
              "      <script>// Copyright 2017 Google LLC\n",
              "//\n",
              "// Licensed under the Apache License, Version 2.0 (the \"License\");\n",
              "// you may not use this file except in compliance with the License.\n",
              "// You may obtain a copy of the License at\n",
              "//\n",
              "//      http://www.apache.org/licenses/LICENSE-2.0\n",
              "//\n",
              "// Unless required by applicable law or agreed to in writing, software\n",
              "// distributed under the License is distributed on an \"AS IS\" BASIS,\n",
              "// WITHOUT WARRANTIES OR CONDITIONS OF ANY KIND, either express or implied.\n",
              "// See the License for the specific language governing permissions and\n",
              "// limitations under the License.\n",
              "\n",
              "/**\n",
              " * @fileoverview Helpers for google.colab Python module.\n",
              " */\n",
              "(function(scope) {\n",
              "function span(text, styleAttributes = {}) {\n",
              "  const element = document.createElement('span');\n",
              "  element.textContent = text;\n",
              "  for (const key of Object.keys(styleAttributes)) {\n",
              "    element.style[key] = styleAttributes[key];\n",
              "  }\n",
              "  return element;\n",
              "}\n",
              "\n",
              "// Max number of bytes which will be uploaded at a time.\n",
              "const MAX_PAYLOAD_SIZE = 100 * 1024;\n",
              "\n",
              "function _uploadFiles(inputId, outputId) {\n",
              "  const steps = uploadFilesStep(inputId, outputId);\n",
              "  const outputElement = document.getElementById(outputId);\n",
              "  // Cache steps on the outputElement to make it available for the next call\n",
              "  // to uploadFilesContinue from Python.\n",
              "  outputElement.steps = steps;\n",
              "\n",
              "  return _uploadFilesContinue(outputId);\n",
              "}\n",
              "\n",
              "// This is roughly an async generator (not supported in the browser yet),\n",
              "// where there are multiple asynchronous steps and the Python side is going\n",
              "// to poll for completion of each step.\n",
              "// This uses a Promise to block the python side on completion of each step,\n",
              "// then passes the result of the previous step as the input to the next step.\n",
              "function _uploadFilesContinue(outputId) {\n",
              "  const outputElement = document.getElementById(outputId);\n",
              "  const steps = outputElement.steps;\n",
              "\n",
              "  const next = steps.next(outputElement.lastPromiseValue);\n",
              "  return Promise.resolve(next.value.promise).then((value) => {\n",
              "    // Cache the last promise value to make it available to the next\n",
              "    // step of the generator.\n",
              "    outputElement.lastPromiseValue = value;\n",
              "    return next.value.response;\n",
              "  });\n",
              "}\n",
              "\n",
              "/**\n",
              " * Generator function which is called between each async step of the upload\n",
              " * process.\n",
              " * @param {string} inputId Element ID of the input file picker element.\n",
              " * @param {string} outputId Element ID of the output display.\n",
              " * @return {!Iterable<!Object>} Iterable of next steps.\n",
              " */\n",
              "function* uploadFilesStep(inputId, outputId) {\n",
              "  const inputElement = document.getElementById(inputId);\n",
              "  inputElement.disabled = false;\n",
              "\n",
              "  const outputElement = document.getElementById(outputId);\n",
              "  outputElement.innerHTML = '';\n",
              "\n",
              "  const pickedPromise = new Promise((resolve) => {\n",
              "    inputElement.addEventListener('change', (e) => {\n",
              "      resolve(e.target.files);\n",
              "    });\n",
              "  });\n",
              "\n",
              "  const cancel = document.createElement('button');\n",
              "  inputElement.parentElement.appendChild(cancel);\n",
              "  cancel.textContent = 'Cancel upload';\n",
              "  const cancelPromise = new Promise((resolve) => {\n",
              "    cancel.onclick = () => {\n",
              "      resolve(null);\n",
              "    };\n",
              "  });\n",
              "\n",
              "  // Wait for the user to pick the files.\n",
              "  const files = yield {\n",
              "    promise: Promise.race([pickedPromise, cancelPromise]),\n",
              "    response: {\n",
              "      action: 'starting',\n",
              "    }\n",
              "  };\n",
              "\n",
              "  cancel.remove();\n",
              "\n",
              "  // Disable the input element since further picks are not allowed.\n",
              "  inputElement.disabled = true;\n",
              "\n",
              "  if (!files) {\n",
              "    return {\n",
              "      response: {\n",
              "        action: 'complete',\n",
              "      }\n",
              "    };\n",
              "  }\n",
              "\n",
              "  for (const file of files) {\n",
              "    const li = document.createElement('li');\n",
              "    li.append(span(file.name, {fontWeight: 'bold'}));\n",
              "    li.append(span(\n",
              "        `(${file.type || 'n/a'}) - ${file.size} bytes, ` +\n",
              "        `last modified: ${\n",
              "            file.lastModifiedDate ? file.lastModifiedDate.toLocaleDateString() :\n",
              "                                    'n/a'} - `));\n",
              "    const percent = span('0% done');\n",
              "    li.appendChild(percent);\n",
              "\n",
              "    outputElement.appendChild(li);\n",
              "\n",
              "    const fileDataPromise = new Promise((resolve) => {\n",
              "      const reader = new FileReader();\n",
              "      reader.onload = (e) => {\n",
              "        resolve(e.target.result);\n",
              "      };\n",
              "      reader.readAsArrayBuffer(file);\n",
              "    });\n",
              "    // Wait for the data to be ready.\n",
              "    let fileData = yield {\n",
              "      promise: fileDataPromise,\n",
              "      response: {\n",
              "        action: 'continue',\n",
              "      }\n",
              "    };\n",
              "\n",
              "    // Use a chunked sending to avoid message size limits. See b/62115660.\n",
              "    let position = 0;\n",
              "    do {\n",
              "      const length = Math.min(fileData.byteLength - position, MAX_PAYLOAD_SIZE);\n",
              "      const chunk = new Uint8Array(fileData, position, length);\n",
              "      position += length;\n",
              "\n",
              "      const base64 = btoa(String.fromCharCode.apply(null, chunk));\n",
              "      yield {\n",
              "        response: {\n",
              "          action: 'append',\n",
              "          file: file.name,\n",
              "          data: base64,\n",
              "        },\n",
              "      };\n",
              "\n",
              "      let percentDone = fileData.byteLength === 0 ?\n",
              "          100 :\n",
              "          Math.round((position / fileData.byteLength) * 100);\n",
              "      percent.textContent = `${percentDone}% done`;\n",
              "\n",
              "    } while (position < fileData.byteLength);\n",
              "  }\n",
              "\n",
              "  // All done.\n",
              "  yield {\n",
              "    response: {\n",
              "      action: 'complete',\n",
              "    }\n",
              "  };\n",
              "}\n",
              "\n",
              "scope.google = scope.google || {};\n",
              "scope.google.colab = scope.google.colab || {};\n",
              "scope.google.colab._files = {\n",
              "  _uploadFiles,\n",
              "  _uploadFilesContinue,\n",
              "};\n",
              "})(self);\n",
              "</script> "
            ]
          },
          "metadata": {}
        },
        {
          "output_type": "stream",
          "name": "stdout",
          "text": [
            "Saving sample-nl.mp3 to sample-nl.mp3\n"
          ]
        },
        {
          "output_type": "stream",
          "name": "stderr",
          "text": [
            "/usr/local/lib/python3.8/dist-packages/whisper/transcribe.py:78: UserWarning: FP16 is not supported on CPU; using FP32 instead\n",
            "  warnings.warn(\"FP16 is not supported on CPU; using FP32 instead\")\n"
          ]
        },
        {
          "output_type": "stream",
          "name": "stdout",
          "text": [
            "CPU times: user 51.8 s, sys: 558 ms, total: 52.3 s\n",
            "Wall time: 1min 6s\n"
          ]
        }
      ]
    },
    {
      "cell_type": "markdown",
      "source": [
        "## 2.6 Run result"
      ],
      "metadata": {
        "id": "INrBEbCdBvhO"
      }
    },
    {
      "cell_type": "code",
      "source": [
        "show_result(result)"
      ],
      "metadata": {
        "id": "Q4EhOSh1Bvqr",
        "colab": {
          "base_uri": "https://localhost:8080/"
        },
        "outputId": "e2aefd4c-6fe5-48e4-aaa9-6acf9b41ccf6"
      },
      "execution_count": 8,
      "outputs": [
        {
          "output_type": "stream",
          "name": "stdout",
          "text": [
            "----------------------------------------------------------------------------------------------------\n",
            "\n",
            "\u001b[1mModel: \u001b[0m\u001b[0mmedium\n",
            "\u001b[1mDevice: \u001b[0m\u001b[0mcpu\n",
            "\n",
            "\u001b[1mText: \u001b[0m\u001b[0mThe fixed maximum speeds in Belgium are 30, 50, 70, 90 and 120 km per hour.\n",
            "\u001b[1mLanguage: \u001b[0m\u001b[0mnl\n",
            "\n",
            "\u001b[1mSegments:\u001b[0m\u001b[0m\n",
            "\t\u001b[1mId: \u001b[0m\u001b[0m0\n",
            "\tTime: 0.00s - 8.84s\n",
            "\tText: The fixed maximum speeds in Belgium are 30, 50, 70, 90 and 120 km per hour.\n",
            "\tNo Speech Probability: 0.03\n",
            "\n",
            "----------------------------------------------------------------------------------------------------\n"
          ]
        }
      ]
    }
  ]
}